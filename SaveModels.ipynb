{
 "cells": [
  {
   "cell_type": "code",
   "execution_count": 1,
   "metadata": {},
   "outputs": [
    {
     "name": "stdout",
     "output_type": "stream",
     "text": [
      "All model files have been saved successfully!\n"
     ]
    }
   ],
   "source": [
    "import pandas as pd\n",
    "import numpy as np\n",
    "from sklearn.model_selection import train_test_split, RandomizedSearchCV\n",
    "from sklearn.preprocessing import LabelEncoder, StandardScaler\n",
    "from sklearn.ensemble import RandomForestClassifier, RandomForestRegressor\n",
    "from imblearn.over_sampling import SMOTE\n",
    "import joblib\n",
    "\n",
    "# Load Dataset\n",
    "file_path = \"crop_yield2.csv\"\n",
    "df = pd.read_csv(file_path)\n",
    "\n",
    "# Handle Missing Data\n",
    "numeric_cols = df.select_dtypes(include=[np.number]).columns\n",
    "df[numeric_cols] = df[numeric_cols].fillna(df[numeric_cols].median())\n",
    "\n",
    "# Remove Outliers using IQR\n",
    "Q1 = df[numeric_cols].quantile(0.25)\n",
    "Q3 = df[numeric_cols].quantile(0.75)\n",
    "IQR = Q3 - Q1\n",
    "df = df[~((df[numeric_cols] < (Q1 - 1.5 * IQR)) | (df[numeric_cols] > (Q3 + 1.5 * IQR))).any(axis=1)]\n",
    "\n",
    "# Encode Categorical Variables\n",
    "label_encoders = {}\n",
    "for col in [\"Crop\", \"Season\", \"State\"]:\n",
    "    le = LabelEncoder()\n",
    "    df[col] = le.fit_transform(df[col])\n",
    "    label_encoders[col] = le\n",
    "\n",
    "# Prepare Data for Classification\n",
    "X_class = df.drop(columns=[\"Crop\", \"Yield\"])\n",
    "y_class = df[\"Crop\"]\n",
    "scaler_class = StandardScaler()\n",
    "X_class_scaled = scaler_class.fit_transform(X_class)\n",
    "\n",
    "# Prepare Data for Regression\n",
    "X_reg = df.drop(columns=[\"Yield\"])\n",
    "y_reg = df[\"Yield\"]\n",
    "scaler_reg = StandardScaler()\n",
    "X_reg_scaled = scaler_reg.fit_transform(X_reg)\n",
    "\n",
    "# Handle Class Imbalance\n",
    "smote = SMOTE(random_state=42, k_neighbors=1)\n",
    "X_class_resampled, y_class_resampled = smote.fit_resample(X_class_scaled, y_class)\n",
    "\n",
    "# Split Data\n",
    "Xc_train, Xc_test, yc_train, yc_test = train_test_split(X_class_resampled, y_class_resampled, test_size=0.2, random_state=42, stratify=y_class_resampled)\n",
    "Xr_train, Xr_test, yr_train, yr_test = train_test_split(X_reg_scaled, y_reg, test_size=0.2, random_state=42)\n",
    "\n",
    "# Hyperparameter Tuning for Classification\n",
    "param_grid = {\n",
    "    'n_estimators': [50, 100, 150, 200, 250],\n",
    "    'max_depth': [10, 20, 30, None],\n",
    "    'min_samples_split': [2, 5, 10],\n",
    "    'min_samples_leaf': [1, 2, 4],\n",
    "    'class_weight': [None, \"balanced\"]\n",
    "}\n",
    "\n",
    "clf_base = RandomForestClassifier(random_state=42)\n",
    "grid_search = RandomizedSearchCV(clf_base, param_grid, n_iter=15, cv=5, random_state=42, n_jobs=-1)\n",
    "grid_search.fit(Xc_train, yc_train)\n",
    "clf = grid_search.best_estimator_\n",
    "\n",
    "# Train Classification Model\n",
    "clf.fit(Xc_train, yc_train)\n",
    "\n",
    "# Train Regression Model\n",
    "reg = RandomForestRegressor(n_estimators=grid_search.best_params_['n_estimators'],\n",
    "                            max_depth=grid_search.best_params_['max_depth'],\n",
    "                            random_state=42)\n",
    "reg.fit(Xr_train, yr_train)\n",
    "\n",
    "# Save Models and Preprocessing Objects\n",
    "joblib.dump(clf, 'classification_model.pkl')  # Classification model\n",
    "joblib.dump(reg, 'regression_model.pkl')      # Regression model\n",
    "joblib.dump(scaler_class, 'scaler_class.pkl') # Scaler for classification\n",
    "joblib.dump(scaler_reg, 'scaler_reg.pkl')     # Scaler for regression\n",
    "joblib.dump(label_encoders, 'label_encoders.pkl') # Label encoders for categorical variables\n",
    "\n",
    "print(\"All model files have been saved successfully!\")"
   ]
  },
  {
   "cell_type": "code",
   "execution_count": null,
   "metadata": {},
   "outputs": [],
   "source": []
  }
 ],
 "metadata": {
  "kernelspec": {
   "display_name": "Python 3",
   "language": "python",
   "name": "python3"
  },
  "language_info": {
   "codemirror_mode": {
    "name": "ipython",
    "version": 3
   },
   "file_extension": ".py",
   "mimetype": "text/x-python",
   "name": "python",
   "nbconvert_exporter": "python",
   "pygments_lexer": "ipython3",
   "version": "3.12.10"
  }
 },
 "nbformat": 4,
 "nbformat_minor": 2
}
